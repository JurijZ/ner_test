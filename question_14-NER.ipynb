{
 "cells": [
  {
   "cell_type": "code",
   "execution_count": 1,
   "metadata": {},
   "outputs": [],
   "source": [
    "import spacy\n"
   ]
  },
  {
   "cell_type": "code",
   "execution_count": 15,
   "metadata": {},
   "outputs": [
    {
     "name": "stdout",
     "output_type": "stream",
     "text": [
      "\u001b[38;5;3m⚠ As of spaCy v3.0, shortcuts like 'en' are deprecated. Please use the\n",
      "full pipeline package name 'en_core_web_sm' instead.\u001b[0m\n",
      "\u001b[38;5;2m✔ Download and installation successful\u001b[0m\n",
      "You can now load the package via spacy.load('en_core_web_sm')\n"
     ]
    }
   ],
   "source": []
  },
  {
   "cell_type": "code",
   "execution_count": 45,
   "metadata": {},
   "outputs": [],
   "source": [
    "def extract_entities(text, language_code):\n",
    "\n",
    "    # download the package\n",
    "    try:\n",
    "        spacy.cli.download(language_code)\n",
    "    except:\n",
    "        print(\"Language package was not found, check the language code.\")\n",
    "        return\n",
    "\n",
    "    # TODO - check that package is loaded\n",
    "    print(spacy.info())\n",
    "\n",
    "    # load\n",
    "    nlp = spacy.load(language_code)\n",
    "\n",
    "    # Print supported entities\n",
    "    #print(nlp.get_pipe(\"ner\").labels)\n",
    "    \n",
    "    doc = nlp(text)\n",
    "    entities = [{\"text\": entity.text, \n",
    "                \"type\": entity.label_, \n",
    "                \"start_pos\": entity.start_char,\n",
    "                \"end_pos\": entity.end_char } for entity in doc.ents]\n",
    "    return entities\n"
   ]
  },
  {
   "cell_type": "code",
   "execution_count": 46,
   "metadata": {},
   "outputs": [
    {
     "name": "stdout",
     "output_type": "stream",
     "text": [
      "\u001b[38;5;2m✔ Download and installation successful\u001b[0m\n",
      "You can now load the package via spacy.load('en_core_web_sm')\n",
      "{'spacy_version': '3.5.0', 'location': 'c:\\\\Users\\\\User2\\\\AppData\\\\Local\\\\Programs\\\\Python\\\\Python311\\\\Lib\\\\site-packages\\\\spacy', 'platform': 'Windows-10-10.0.19045-SP0', 'python_version': '3.11.1', 'pipelines': {}}\n",
      "[{'text': 'NER', 'type': 'ORG', 'start_pos': 24, 'end_pos': 27}]\n"
     ]
    }
   ],
   "source": [
    "text = \"Create a multi-language NER system\"\n",
    "entities = extract_entities(text, \"en_core_web_sm\")\n",
    "print(entities)\n"
   ]
  },
  {
   "cell_type": "code",
   "execution_count": 47,
   "metadata": {},
   "outputs": [
    {
     "name": "stdout",
     "output_type": "stream",
     "text": [
      "\u001b[38;5;2m✔ Download and installation successful\u001b[0m\n",
      "You can now load the package via spacy.load('lt_core_news_sm')\n",
      "{'spacy_version': '3.5.0', 'location': 'c:\\\\Users\\\\User2\\\\AppData\\\\Local\\\\Programs\\\\Python\\\\Python311\\\\Lib\\\\site-packages\\\\spacy', 'platform': 'Windows-10-10.0.19045-SP0', 'python_version': '3.11.1', 'pipelines': {}}\n",
      "[{'text': 'Šiandien', 'type': 'TIME', 'start_pos': 0, 'end_pos': 8}, {'text': 'Vilniuje', 'type': 'LOC', 'start_pos': 9, 'end_pos': 17}]\n"
     ]
    }
   ],
   "source": [
    "text = \"Šiandien Vilniuje bus rodomas Marvel filmas\"\n",
    "entities = extract_entities(text, \"lt_core_news_sm\")\n",
    "print(entities)"
   ]
  }
 ],
 "metadata": {
  "kernelspec": {
   "display_name": "Python 3",
   "language": "python",
   "name": "python3"
  },
  "language_info": {
   "codemirror_mode": {
    "name": "ipython",
    "version": 3
   },
   "file_extension": ".py",
   "mimetype": "text/x-python",
   "name": "python",
   "nbconvert_exporter": "python",
   "pygments_lexer": "ipython3",
   "version": "3.11.1"
  },
  "orig_nbformat": 4,
  "vscode": {
   "interpreter": {
    "hash": "7ff3b5ff64da96638c79f4c01976e32d2537b226e4ff31da4c5ed338f6705929"
   }
  }
 },
 "nbformat": 4,
 "nbformat_minor": 2
}
